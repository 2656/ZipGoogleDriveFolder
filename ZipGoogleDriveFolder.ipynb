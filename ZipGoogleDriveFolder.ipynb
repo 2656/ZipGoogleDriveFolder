{
 "cells": [
  {
   "cell_type": "markdown",
   "metadata": {
    "colab_type": "text",
    "id": "view-in-github"
   },
   "source": [
    "<a href=\"https://colab.research.google.com/github/rhyzq/ZipGoogleDriveFolder/blob/master/ZipGoogleDriveFolder.ipynb\" target=\"_parent\"><img src=\"https://colab.research.google.com/assets/colab-badge.svg\" alt=\"Open In Colab\"/></a>"
   ]
  },
  {
   "cell_type": "markdown",
   "metadata": {
    "colab_type": "text",
    "id": "J0ZQh68nUIXL"
   },
   "source": [
    "# Make Zip file from Google Drive Folder\n"
   ]
  },
  {
   "cell_type": "markdown",
   "metadata": {
    "colab_type": "text",
    "id": "6O1aVx5jJ4uf"
   },
   "source": [
    "**IMPORTANT NOTE :** Can only Ziping a folder , Make Sure you have space on your google drive folder\n",
    "\n",
    "\n",
    "\n",
    "```\n",
    "Browse your folder using left panel and copy path from there\n",
    "```\n",
    " "
   ]
  },
  {
   "cell_type": "markdown",
   "metadata": {
    "colab_type": "text",
    "id": "p6lKPaSrKAT4"
   },
   "source": [
    "### Mount Google Drive"
   ]
  },
  {
   "cell_type": "code",
   "execution_count": 0,
   "metadata": {
    "colab": {},
    "colab_type": "code",
    "id": "MgwDVcx3Tozq"
   },
   "outputs": [],
   "source": [
    "from google.colab import drive\n",
    "\n",
    "drive.mount(\"/content/drive\")"
   ]
  },
  {
   "cell_type": "markdown",
   "metadata": {
    "colab_type": "text",
    "id": "KmOTHbY8KKS6"
   },
   "source": [
    "### Ziping Google Drive folder"
   ]
  },
  {
   "cell_type": "code",
   "execution_count": 0,
   "metadata": {
    "colab": {},
    "colab_type": "code",
    "id": "m679hKNHWAoJ"
   },
   "outputs": [],
   "source": [
    "import shutil\n",
    "\n",
    "gdrive_folderlist=[]\n",
    "\n",
    "counter = 0\n",
    "while True:\n",
    "    gdrive_folder = input(\"Enter google drive folder Or Type Exit: \")\n",
    "    if gdrive_folder.lower() == \"exit\":\n",
    "                 break\n",
    "    gdrive_folderlist.append(gdrive_folder)\n",
    "    counter = counter + 1\n",
    "          \n",
    "while True:\n",
    "    counter= counter - 1\n",
    "    if counter == 0 :\n",
    "        print(\"Complete\")\n",
    "        break\n",
    "    print(\"Please Wait...\")\n",
    "    shutil.make_archive(gdrive_folderlist[counter],'zip',gdrive_folderlist[counter])\n",
    "     \n",
    "\n"
   ]
  }
 ],
 "metadata": {
  "accelerator": "GPU",
  "colab": {
   "collapsed_sections": [],
   "include_colab_link": true,
   "name": "Zip Google Drive Folder.ipynb",
   "provenance": [],
   "version": "0.3.2"
  },
  "kernelspec": {
   "display_name": "Python 3",
   "language": "python",
   "name": "python3"
  },
  "language_info": {
   "codemirror_mode": {
    "name": "ipython",
    "version": 3
   },
   "file_extension": ".py",
   "mimetype": "text/x-python",
   "name": "python",
   "nbconvert_exporter": "python",
   "pygments_lexer": "ipython3",
   "version": "3.7.3"
  }
 },
 "nbformat": 4,
 "nbformat_minor": 1
}
