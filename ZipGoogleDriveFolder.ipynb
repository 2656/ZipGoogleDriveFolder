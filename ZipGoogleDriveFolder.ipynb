{
  "nbformat": 4,
  "nbformat_minor": 0,
  "metadata": {
    "colab": {
      "name": "Untitled0.ipynb",
      "version": "0.3.2",
      "provenance": [],
      "collapsed_sections": [],
      "include_colab_link": true
    },
    "kernelspec": {
      "name": "python3",
      "display_name": "Python 3"
    },
    "accelerator": "GPU"
  },
  "cells": [
    {
      "cell_type": "markdown",
      "metadata": {
        "id": "view-in-github",
        "colab_type": "text"
      },
      "source": [
        "<a href=\"https://colab.research.google.com/github/rhyzq/ZipGoogleDriveFolder/blob/master/ZipGoogleDriveFolder.ipynb\" target=\"_parent\"><img src=\"https://colab.research.google.com/assets/colab-badge.svg\" alt=\"Open In Colab\"/></a>"
      ]
    },
    {
      "cell_type": "markdown",
      "metadata": {
        "id": "J0ZQh68nUIXL",
        "colab_type": "text"
      },
      "source": [
        "# Make Zip file from Google Drive Folder\n"
      ]
    },
    {
      "cell_type": "markdown",
      "metadata": {
        "id": "6O1aVx5jJ4uf",
        "colab_type": "text"
      },
      "source": [
        "**IMPORTANT NOTE :** Can only Ziping a folder , Make Sure you have space on your google drive folder\n",
        "\n",
        "\n",
        "\n",
        "```\n",
        "Browse your folder using left panel and copy path from there\n",
        "```\n",
        " "
      ]
    },
    {
      "cell_type": "markdown",
      "metadata": {
        "id": "p6lKPaSrKAT4",
        "colab_type": "text"
      },
      "source": [
        "### Mount Google Drive"
      ]
    },
    {
      "cell_type": "code",
      "metadata": {
        "id": "MgwDVcx3Tozq",
        "colab_type": "code",
        "colab": {}
      },
      "source": [
        "from google.colab import drive\n",
        "\n",
        "drive.mount(\"/content/drive\")"
      ],
      "execution_count": 0,
      "outputs": []
    },
    {
      "cell_type": "markdown",
      "metadata": {
        "id": "KmOTHbY8KKS6",
        "colab_type": "text"
      },
      "source": [
        "### Ziping Google Drive folder"
      ]
    },
    {
      "cell_type": "code",
      "metadata": {
        "id": "m679hKNHWAoJ",
        "colab_type": "code",
        "colab": {}
      },
      "source": [
        "import shutil\n",
        "\n",
        "gdrive_folderlist=[\"dummy\"]\n",
        "\n",
        "counter = 1\n",
        "while True:\n",
        "     gdrive_folder = input(\"Enter google drive folder Or Type Exit: \")\n",
        "     if gdrive_folder.lower() == \"exit\":\n",
        "         break\n",
        "     gdrive_folderlist.append(gdrive_folder)\n",
        "     counter = counter + 1\n",
        "          \n",
        "while True:\n",
        "     counter= counter - 1\n",
        "     if counter == 0 :\n",
        "          print(\"Complete\")\n",
        "          break\n",
        "     print(\"Please Wait...\")\n",
        "     shutil.make_archive(gdrive_folderlist[counter],'zip',gdrive_folderlist[counter])\n",
        "     \n",
        "\n"
      ],
      "execution_count": 0,
      "outputs": []
    }
  ]
}